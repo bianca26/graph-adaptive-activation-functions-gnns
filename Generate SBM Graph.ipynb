{
 "cells": [
  {
   "cell_type": "markdown",
   "metadata": {},
   "source": [
    "Code for generating the Stochastic Block Model (SBM) graph employed in the Source Localization and Finite Time Consensus experiments."
   ]
  },
  {
   "cell_type": "markdown",
   "metadata": {},
   "source": [
    "## Imports"
   ]
  },
  {
   "cell_type": "code",
   "execution_count": 1,
   "metadata": {},
   "outputs": [],
   "source": [
    "import pickle\n",
    "import Utils.graphTools as graphTools"
   ]
  },
  {
   "cell_type": "markdown",
   "metadata": {},
   "source": [
    "## Data Parameters"
   ]
  },
  {
   "cell_type": "code",
   "execution_count": 3,
   "metadata": {},
   "outputs": [],
   "source": [
    "graphType = 'SBM' \n",
    "nNodes = 50 # Number of nodes\n",
    "nClasses = 5 #5 # Number of classes (i.e. number of communities)\n",
    "graphOptions = {} # Dictionary of options to pass to the graphTools.createGraph function\n",
    "graphOptions['nCommunities'] = nClasses # Number of communities\n",
    "graphOptions['probIntra'] = 0.8 # Probability of drawing edges intra communities\n",
    "graphOptions['probInter'] = 0.1 # Probability of drawing edges inter communities"
   ]
  },
  {
   "cell_type": "markdown",
   "metadata": {},
   "source": [
    "## Graphs Creation"
   ]
  },
  {
   "cell_type": "code",
   "execution_count": 4,
   "metadata": {},
   "outputs": [
    {
     "name": "stdout",
     "output_type": "stream",
     "text": [
      "Tipul matricei W este <class 'numpy.ndarray'>\n",
      "Dimensiunile sunt f(50, 50)\n",
      "Tipul matricei W este <class 'numpy.ndarray'>\n",
      "Dimensiunile sunt f(50, 50)\n",
      "Tipul matricei W este <class 'numpy.ndarray'>\n",
      "Dimensiunile sunt f(50, 50)\n",
      "Tipul matricei W este <class 'numpy.ndarray'>\n",
      "Dimensiunile sunt f(50, 50)\n",
      "Tipul matricei W este <class 'numpy.ndarray'>\n",
      "Dimensiunile sunt f(50, 50)\n",
      "Tipul matricei W este <class 'numpy.ndarray'>\n",
      "Dimensiunile sunt f(50, 50)\n",
      "Tipul matricei W este <class 'numpy.ndarray'>\n",
      "Dimensiunile sunt f(50, 50)\n",
      "<Utils.graphTools.Graph object at 0x00000234E185AA58>\n",
      "[[0. 1. 1. ... 1. 1. 0.]\n",
      " [1. 0. 1. ... 0. 0. 0.]\n",
      " [1. 1. 0. ... 1. 0. 0.]\n",
      " ...\n",
      " [1. 0. 1. ... 0. 1. 0.]\n",
      " [1. 0. 0. ... 1. 0. 1.]\n",
      " [0. 0. 0. ... 0. 1. 0.]]\n"
     ]
    }
   ],
   "source": [
    "allGraphs = []\n",
    "allAdjMatrix = []\n",
    "\n",
    "for i in range(0, 7):\n",
    "    G = graphTools.Graph(graphType, nNodes, graphOptions)\n",
    "    allGraphs.append(G)\n",
    "    allAdjMatrix.append(G.W)   \n",
    "\n",
    "print(G)\n",
    "print(G.W)"
   ]
  },
  {
   "cell_type": "code",
   "execution_count": 5,
   "metadata": {},
   "outputs": [],
   "source": [
    "with open('graphs', 'wb') as fp:\n",
    "    pickle.dump(allGraphs, fp)"
   ]
  }
 ],
 "metadata": {
  "kernelspec": {
   "display_name": "Python 3",
   "language": "python",
   "name": "python3"
  },
  "language_info": {
   "codemirror_mode": {
    "name": "ipython",
    "version": 3
   },
   "file_extension": ".py",
   "mimetype": "text/x-python",
   "name": "python",
   "nbconvert_exporter": "python",
   "pygments_lexer": "ipython3",
   "version": "3.7.3"
  }
 },
 "nbformat": 4,
 "nbformat_minor": 2
}
